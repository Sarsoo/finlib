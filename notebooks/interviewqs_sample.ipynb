{
 "cells": [
  {
   "cell_type": "code",
   "id": "initial_id",
   "metadata": {
    "collapsed": true,
    "ExecuteTime": {
     "end_time": "2025-02-15T23:03:06.288017Z",
     "start_time": "2025-02-15T23:03:00.795664Z"
    }
   },
   "source": [
    "import pandas as pd\n",
    "import numpy as np\n",
    "from openbb import obb\n",
    "import datetime as dt\n",
    "import matplotlib.pyplot as plt\n",
    "\n",
    "# Create our portfolio of equities\n",
    "tickers = ['AAPL','META', 'C', 'DIS']\n",
    "\n",
    "# Set the investment weights (I arbitrarily picked for example)\n",
    "weights = np.array([.25, .3, .15, .3])\n",
    "\n",
    "# Set an initial investment level\n",
    "initial_investment = 1000000\n",
    "\n",
    "# Download closing prices\n",
    "data = (obb.equity.price.historical(symbol=tickers, provider='yfinance')\n",
    "        .to_df()\n",
    "        .drop(columns=['open', 'high', 'low', 'volume', 'dividend'])\n",
    "        .pivot(columns='symbol'))\n",
    "\n",
    "#From the closing prices, calculate periodic returns\n",
    "returns = data.pct_change()\n",
    "\n",
    "# returns.tail()"
   ],
   "outputs": [],
   "execution_count": 1
  },
  {
   "metadata": {
    "ExecuteTime": {
     "end_time": "2025-02-15T22:25:07.699602Z",
     "start_time": "2025-02-15T22:25:07.694945Z"
    }
   },
   "cell_type": "code",
   "source": [
    "# Generate Var-Cov matrix\n",
    "cov_matrix = returns.cov()\n",
    "cov_matrix"
   ],
   "id": "146c7f1b5a34b41a",
   "outputs": [
    {
     "data": {
      "text/plain": [
       "                 close                              \n",
       "symbol            AAPL         C       DIS      META\n",
       "      symbol                                        \n",
       "close AAPL    0.000227  0.000039  0.000015  0.000080\n",
       "      C       0.000039  0.000291  0.000079  0.000063\n",
       "      DIS     0.000015  0.000079  0.000202  0.000023\n",
       "      META    0.000080  0.000063  0.000023  0.000363"
      ],
      "text/html": [
       "<div>\n",
       "<style scoped>\n",
       "    .dataframe tbody tr th:only-of-type {\n",
       "        vertical-align: middle;\n",
       "    }\n",
       "\n",
       "    .dataframe tbody tr th {\n",
       "        vertical-align: top;\n",
       "    }\n",
       "\n",
       "    .dataframe thead tr th {\n",
       "        text-align: left;\n",
       "    }\n",
       "\n",
       "    .dataframe thead tr:last-of-type th {\n",
       "        text-align: right;\n",
       "    }\n",
       "</style>\n",
       "<table border=\"1\" class=\"dataframe\">\n",
       "  <thead>\n",
       "    <tr>\n",
       "      <th></th>\n",
       "      <th></th>\n",
       "      <th colspan=\"4\" halign=\"left\">close</th>\n",
       "    </tr>\n",
       "    <tr>\n",
       "      <th></th>\n",
       "      <th>symbol</th>\n",
       "      <th>AAPL</th>\n",
       "      <th>C</th>\n",
       "      <th>DIS</th>\n",
       "      <th>META</th>\n",
       "    </tr>\n",
       "    <tr>\n",
       "      <th></th>\n",
       "      <th>symbol</th>\n",
       "      <th></th>\n",
       "      <th></th>\n",
       "      <th></th>\n",
       "      <th></th>\n",
       "    </tr>\n",
       "  </thead>\n",
       "  <tbody>\n",
       "    <tr>\n",
       "      <th rowspan=\"4\" valign=\"top\">close</th>\n",
       "      <th>AAPL</th>\n",
       "      <td>0.000227</td>\n",
       "      <td>0.000039</td>\n",
       "      <td>0.000015</td>\n",
       "      <td>0.000080</td>\n",
       "    </tr>\n",
       "    <tr>\n",
       "      <th>C</th>\n",
       "      <td>0.000039</td>\n",
       "      <td>0.000291</td>\n",
       "      <td>0.000079</td>\n",
       "      <td>0.000063</td>\n",
       "    </tr>\n",
       "    <tr>\n",
       "      <th>DIS</th>\n",
       "      <td>0.000015</td>\n",
       "      <td>0.000079</td>\n",
       "      <td>0.000202</td>\n",
       "      <td>0.000023</td>\n",
       "    </tr>\n",
       "    <tr>\n",
       "      <th>META</th>\n",
       "      <td>0.000080</td>\n",
       "      <td>0.000063</td>\n",
       "      <td>0.000023</td>\n",
       "      <td>0.000363</td>\n",
       "    </tr>\n",
       "  </tbody>\n",
       "</table>\n",
       "</div>"
      ]
     },
     "execution_count": 31,
     "metadata": {},
     "output_type": "execute_result"
    }
   ],
   "execution_count": 31
  },
  {
   "metadata": {
    "ExecuteTime": {
     "end_time": "2025-02-15T22:25:07.744917Z",
     "start_time": "2025-02-15T22:25:07.741519Z"
    }
   },
   "cell_type": "code",
   "source": [
    "# Calculate mean returns for each stock\n",
    "avg_rets = returns.mean()\n",
    "\n",
    "# Calculate mean returns for portfolio overall,\n",
    "# using dot product to\n",
    "# normalize individual means against investment weights\n",
    "# https://en.wikipedia.org/wiki/Dot_product#:~:targetText=In%20mathematics%2C%20the%20dot%20product,and%20returns%20a%20single%20number.\n",
    "port_mean = avg_rets.dot(weights)\n",
    "\n",
    "# Calculate portfolio standard deviation\n",
    "port_stdev = np.sqrt(weights.T.dot(cov_matrix).dot(weights))\n",
    "\n",
    "# Calculate mean of investment\n",
    "mean_investment = (1+port_mean) * initial_investment\n",
    "\n",
    "# Calculate standard deviation of investmnet\n",
    "stdev_investment = initial_investment * port_stdev"
   ],
   "id": "a157b600c98f83fd",
   "outputs": [],
   "execution_count": 32
  },
  {
   "metadata": {
    "ExecuteTime": {
     "end_time": "2025-02-15T22:28:35.064271Z",
     "start_time": "2025-02-15T22:28:35.046813Z"
    }
   },
   "cell_type": "code",
   "source": [
    "# Select our confidence interval (I'll choose 95% here)\n",
    "conf_level1 = 0.05\n",
    "\n",
    "# Using SciPy ppf method to generate values for the\n",
    "# inverse cumulative distribution function to a normal distribution\n",
    "# Plugging in the mean, standard deviation of our portfolio\n",
    "# as calculated above\n",
    "# https://docs.scipy.org/doc/scipy/reference/generated/scipy.stats.norm.html\n",
    "from scipy.stats import norm\n",
    "cutoff1 = norm.ppf(conf_level1, mean_investment, stdev_investment)\n",
    "cutoff1"
   ],
   "id": "7cf30fad1b4a37f7",
   "outputs": [
    {
     "data": {
      "text/plain": [
       "np.float64(983640.6453882146)"
      ]
     },
     "execution_count": 36,
     "metadata": {},
     "output_type": "execute_result"
    }
   ],
   "execution_count": 36
  },
  {
   "metadata": {
    "ExecuteTime": {
     "end_time": "2025-02-15T22:28:39.289345Z",
     "start_time": "2025-02-15T22:28:39.287143Z"
    }
   },
   "cell_type": "code",
   "source": [
    "#Finally, we can calculate the VaR at our confidence interval\n",
    "var_1d1 = initial_investment - cutoff1\n",
    "var_1d1"
   ],
   "id": "5c5c2a6f22e44002",
   "outputs": [
    {
     "data": {
      "text/plain": [
       "np.float64(16359.354611785384)"
      ]
     },
     "execution_count": 37,
     "metadata": {},
     "output_type": "execute_result"
    }
   ],
   "execution_count": 37
  },
  {
   "metadata": {
    "ExecuteTime": {
     "end_time": "2025-02-15T22:25:09.199604Z",
     "start_time": "2025-02-15T22:25:09.093065Z"
    }
   },
   "cell_type": "code",
   "source": [
    "# Calculate n Day VaR\n",
    "var_array = []\n",
    "num_days = int(15)\n",
    "for x in range(1, num_days+1):\n",
    "        var_array.append(np.round(var_1d1 * np.sqrt(x),2))\n",
    "        print(str(x) + \" day VaR @ 95% confidence: \" + str(np.round(var_1d1 * np.sqrt(x),2)))\n",
    "\n",
    "# Build plot\n",
    "plt.xlabel(\"Day #\")\n",
    "plt.ylabel(\"Max portfolio loss (USD)\")\n",
    "plt.title(\"Max portfolio loss (VaR) over 15-day period\")\n",
    "plt.plot(var_array, \"r\")"
   ],
   "id": "641bda40d9fa37f",
   "outputs": [
    {
     "name": "stdout",
     "output_type": "stream",
     "text": [
      "1 day VaR @ 95% confidence: 16359.35\n",
      "2 day VaR @ 95% confidence: 23135.62\n",
      "3 day VaR @ 95% confidence: 28335.23\n",
      "4 day VaR @ 95% confidence: 32718.71\n",
      "5 day VaR @ 95% confidence: 36580.63\n",
      "6 day VaR @ 95% confidence: 40072.07\n",
      "7 day VaR @ 95% confidence: 43282.78\n",
      "8 day VaR @ 95% confidence: 46271.24\n",
      "9 day VaR @ 95% confidence: 49078.06\n",
      "10 day VaR @ 95% confidence: 51732.82\n",
      "11 day VaR @ 95% confidence: 54257.84\n",
      "12 day VaR @ 95% confidence: 56670.47\n",
      "13 day VaR @ 95% confidence: 58984.49\n",
      "14 day VaR @ 95% confidence: 61211.1\n",
      "15 day VaR @ 95% confidence: 63359.51\n"
     ]
    },
    {
     "data": {
      "text/plain": [
       "[<matplotlib.lines.Line2D at 0x15cf1e630>]"
      ]
     },
     "execution_count": 35,
     "metadata": {},
     "output_type": "execute_result"
    },
    {
     "data": {
      "text/plain": [
       "<Figure size 640x480 with 1 Axes>"
      ],
      "image/png": "[encoded data removed]"
     },
     "metadata": {},
     "output_type": "display_data"
    }
   ],
   "execution_count": 35
  },
  {
   "metadata": {},
   "cell_type": "code",
   "outputs": [],
   "execution_count": null,
   "source": "",
   "id": "16442df6e6372aa5"
  }
 ],
 "metadata": {
  "kernelspec": {
   "display_name": "Python 3",
   "language": "python",
   "name": "python3"
  },
  "language_info": {
   "codemirror_mode": {
    "name": "ipython",
    "version": 2
   },
   "file_extension": ".py",
   "mimetype": "text/x-python",
   "name": "python",
   "nbconvert_exporter": "python",
   "pygments_lexer": "ipython2",
   "version": "2.7.6"
  }
 },
 "nbformat": 4,
 "nbformat_minor": 5
}
