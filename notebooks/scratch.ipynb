{
 "cells": [
  {
   "cell_type": "code",
   "id": "initial_id",
   "metadata": {
    "collapsed": true,
    "ExecuteTime": {
     "end_time": "2025-06-22T16:49:57.530171Z",
     "start_time": "2025-06-22T16:49:57.525743Z"
    }
   },
   "source": [
    "import pyfinlib\n",
    "from datetime import date, timedelta"
   ],
   "outputs": [],
   "execution_count": 1
  },
  {
   "metadata": {
    "ExecuteTime": {
     "end_time": "2025-06-22T16:49:57.634308Z",
     "start_time": "2025-06-22T16:49:57.632559Z"
    }
   },
   "cell_type": "code",
   "source": "price = pyfinlib.Price(1, pyfinlib.Side.Buy)",
   "id": "8977ec6cb185da60",
   "outputs": [],
   "execution_count": 2
  },
  {
   "metadata": {
    "ExecuteTime": {
     "end_time": "2025-06-22T16:49:57.773354Z",
     "start_time": "2025-06-22T16:49:57.766518Z"
    }
   },
   "cell_type": "code",
   "source": "price.side",
   "id": "5e51c3791f54a96a",
   "outputs": [
    {
     "data": {
      "text/plain": [
       "Side.Buy"
      ]
     },
     "execution_count": 3,
     "metadata": {},
     "output_type": "execute_result"
    }
   ],
   "execution_count": 3
  },
  {
   "metadata": {
    "ExecuteTime": {
     "end_time": "2025-06-22T16:49:58.505523Z",
     "start_time": "2025-06-22T16:49:58.502385Z"
    }
   },
   "cell_type": "code",
   "source": "curve = pyfinlib.Curve(pyfinlib.CurveType.Differential)",
   "id": "f0bfeb0a08ee6b73",
   "outputs": [],
   "execution_count": 4
  },
  {
   "metadata": {
    "ExecuteTime": {
     "end_time": "2025-06-22T16:49:59.617450Z",
     "start_time": "2025-06-22T16:49:59.614058Z"
    }
   },
   "cell_type": "code",
   "source": [
    "curve.add_rate_from(1.0, 1.0, date.today())\n",
    "# curve.add_rate_from(1.0, 1.0, date.today() + timedelta(days=1))"
   ],
   "id": "dd87da3559568fbb",
   "outputs": [],
   "execution_count": 5
  },
  {
   "metadata": {
    "ExecuteTime": {
     "end_time": "2025-06-22T16:50:00.315036Z",
     "start_time": "2025-06-22T16:50:00.310516Z"
    }
   },
   "cell_type": "code",
   "source": "curve.size()",
   "id": "730cd81295352f6e",
   "outputs": [
    {
     "data": {
      "text/plain": [
       "1"
      ]
     },
     "execution_count": 6,
     "metadata": {},
     "output_type": "execute_result"
    }
   ],
   "execution_count": 6
  },
  {
   "metadata": {
    "ExecuteTime": {
     "end_time": "2025-06-22T16:50:00.750692Z",
     "start_time": "2025-06-22T16:50:00.747334Z"
    }
   },
   "cell_type": "code",
   "source": "len(curve)",
   "id": "c4ca8f340c4a5c7a",
   "outputs": [
    {
     "data": {
      "text/plain": [
       "1"
      ]
     },
     "execution_count": 7,
     "metadata": {},
     "output_type": "execute_result"
    }
   ],
   "execution_count": 7
  },
  {
   "metadata": {
    "ExecuteTime": {
     "end_time": "2025-06-22T16:50:03.740082Z",
     "start_time": "2025-06-22T16:50:03.627850Z"
    }
   },
   "cell_type": "code",
   "source": "option_param = pyfinlib.options.OptionSurfaceParameters()",
   "id": "884322560012a041",
   "outputs": [
    {
     "ename": "TypeError",
     "evalue": "OptionSurfaceParameters.__new__() missing 12 required positional arguments: 'underlying_price', 'underlying_price_bounds', 'strike_price', 'strike_price_bounds', 'volatility', 'volatility_bounds', 'risk_free_interest_rate', 'risk_free_interest_rate_bounds', 'dividend', 'dividend_bounds', 'time_to_expiration', and 'time_to_expiration_bounds'",
     "output_type": "error",
     "traceback": [
      "\u001B[31m---------------------------------------------------------------------------\u001B[39m",
      "\u001B[31mTypeError\u001B[39m                                 Traceback (most recent call last)",
      "\u001B[36mCell\u001B[39m\u001B[36m \u001B[39m\u001B[32mIn[8]\u001B[39m\u001B[32m, line 1\u001B[39m\n\u001B[32m----> \u001B[39m\u001B[32m1\u001B[39m option_param = \u001B[43mpyfinlib\u001B[49m\u001B[43m.\u001B[49m\u001B[43moptions\u001B[49m\u001B[43m.\u001B[49m\u001B[43mOptionSurfaceParameters\u001B[49m\u001B[43m(\u001B[49m\u001B[43m)\u001B[49m\n",
      "\u001B[31mTypeError\u001B[39m: OptionSurfaceParameters.__new__() missing 12 required positional arguments: 'underlying_price', 'underlying_price_bounds', 'strike_price', 'strike_price_bounds', 'volatility', 'volatility_bounds', 'risk_free_interest_rate', 'risk_free_interest_rate_bounds', 'dividend', 'dividend_bounds', 'time_to_expiration', and 'time_to_expiration_bounds'"
     ]
    }
   ],
   "execution_count": 8
  },
  {
   "metadata": {},
   "cell_type": "code",
   "outputs": [],
   "execution_count": null,
   "source": "",
   "id": "97610847e21cd19f"
  }
 ],
 "metadata": {
  "kernelspec": {
   "display_name": "Python 3",
   "language": "python",
   "name": "python3"
  },
  "language_info": {
   "codemirror_mode": {
    "name": "ipython",
    "version": 2
   },
   "file_extension": ".py",
   "mimetype": "text/x-python",
   "name": "python",
   "nbconvert_exporter": "python",
   "pygments_lexer": "ipython2",
   "version": "2.7.6"
  }
 },
 "nbformat": 4,
 "nbformat_minor": 5
}
