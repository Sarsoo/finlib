{
 "cells": [
  {
   "cell_type": "code",
   "id": "initial_id",
   "metadata": {
    "collapsed": true,
    "ExecuteTime": {
     "end_time": "2025-06-19T16:13:14.019539Z",
     "start_time": "2025-06-19T16:13:13.839309Z"
    }
   },
   "source": [
    "import pyfinlib\n",
    "from datetime import date, timedelta"
   ],
   "outputs": [],
   "execution_count": 1
  },
  {
   "metadata": {
    "ExecuteTime": {
     "end_time": "2025-06-19T16:13:14.158427Z",
     "start_time": "2025-06-19T16:13:14.155894Z"
    }
   },
   "cell_type": "code",
   "source": "price = pyfinlib.Price(1, pyfinlib.Side.Buy)",
   "id": "8977ec6cb185da60",
   "outputs": [],
   "execution_count": 2
  },
  {
   "metadata": {
    "ExecuteTime": {
     "end_time": "2025-06-19T16:13:14.176525Z",
     "start_time": "2025-06-19T16:13:14.172363Z"
    }
   },
   "cell_type": "code",
   "source": "price.side",
   "id": "5e51c3791f54a96a",
   "outputs": [
    {
     "data": {
      "text/plain": [
       "Side.Buy"
      ]
     },
     "execution_count": 3,
     "metadata": {},
     "output_type": "execute_result"
    }
   ],
   "execution_count": 3
  },
  {
   "metadata": {
    "ExecuteTime": {
     "end_time": "2025-06-19T16:13:14.243172Z",
     "start_time": "2025-06-19T16:13:14.240536Z"
    }
   },
   "cell_type": "code",
   "source": "curve = pyfinlib.Curve(pyfinlib.CurveType.Differential)",
   "id": "f0bfeb0a08ee6b73",
   "outputs": [],
   "execution_count": 4
  },
  {
   "metadata": {
    "ExecuteTime": {
     "end_time": "2025-06-19T16:13:17.168752Z",
     "start_time": "2025-06-19T16:13:17.166009Z"
    }
   },
   "cell_type": "code",
   "source": [
    "curve.add_rate_from(1.0, 1.0, date.today())\n",
    "# curve.add_rate_from(1.0, 1.0, date.today() + timedelta(days=1))"
   ],
   "id": "dd87da3559568fbb",
   "outputs": [],
   "execution_count": 5
  },
  {
   "metadata": {
    "ExecuteTime": {
     "end_time": "2025-06-19T16:13:18.029206Z",
     "start_time": "2025-06-19T16:13:18.026696Z"
    }
   },
   "cell_type": "code",
   "source": "curve.size()",
   "id": "730cd81295352f6e",
   "outputs": [
    {
     "data": {
      "text/plain": [
       "1"
      ]
     },
     "execution_count": 6,
     "metadata": {},
     "output_type": "execute_result"
    }
   ],
   "execution_count": 6
  },
  {
   "metadata": {
    "ExecuteTime": {
     "end_time": "2025-06-19T16:13:18.787879Z",
     "start_time": "2025-06-19T16:13:18.783049Z"
    }
   },
   "cell_type": "code",
   "source": "len(curve)",
   "id": "c4ca8f340c4a5c7a",
   "outputs": [
    {
     "data": {
      "text/plain": [
       "1"
      ]
     },
     "execution_count": 7,
     "metadata": {},
     "output_type": "execute_result"
    }
   ],
   "execution_count": 7
  },
  {
   "metadata": {},
   "cell_type": "code",
   "outputs": [],
   "execution_count": null,
   "source": "",
   "id": "884322560012a041"
  }
 ],
 "metadata": {
  "kernelspec": {
   "display_name": "Python 3",
   "language": "python",
   "name": "python3"
  },
  "language_info": {
   "codemirror_mode": {
    "name": "ipython",
    "version": 2
   },
   "file_extension": ".py",
   "mimetype": "text/x-python",
   "name": "python",
   "nbconvert_exporter": "python",
   "pygments_lexer": "ipython2",
   "version": "2.7.6"
  }
 },
 "nbformat": 4,
 "nbformat_minor": 5
}
