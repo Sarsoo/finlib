{
 "cells": [
  {
   "cell_type": "code",
   "id": "initial_id",
   "metadata": {
    "collapsed": true,
    "ExecuteTime": {
     "end_time": "2025-06-23T19:59:38.034740Z",
     "start_time": "2025-06-23T19:59:37.809468Z"
    }
   },
   "source": "import pyfinlib",
   "outputs": [],
   "execution_count": 1
  },
  {
   "metadata": {
    "ExecuteTime": {
     "end_time": "2025-06-23T20:04:15.569413Z",
     "start_time": "2025-06-23T20:04:15.566654Z"
    }
   },
   "cell_type": "code",
   "source": "mortgage = pyfinlib.fixed_income.Mortgage(500_000, 50_000, 0.05, 25)",
   "id": "572e41789ba6be5",
   "outputs": [],
   "execution_count": 14
  },
  {
   "metadata": {
    "ExecuteTime": {
     "end_time": "2025-06-23T20:04:16.141819Z",
     "start_time": "2025-06-23T20:04:16.137547Z"
    }
   },
   "cell_type": "code",
   "source": "mortgage.ltv",
   "id": "675293133329f6eb",
   "outputs": [
    {
     "data": {
      "text/plain": [
       "0.9"
      ]
     },
     "execution_count": 15,
     "metadata": {},
     "output_type": "execute_result"
    }
   ],
   "execution_count": 15
  },
  {
   "metadata": {
    "ExecuteTime": {
     "end_time": "2025-06-23T20:08:54.038156Z",
     "start_time": "2025-06-23T20:08:54.025109Z"
    }
   },
   "cell_type": "code",
   "source": "mortgage.loan_value",
   "id": "589d407af133fb40",
   "outputs": [
    {
     "data": {
      "text/plain": [
       "450000.0"
      ]
     },
     "execution_count": 23,
     "metadata": {},
     "output_type": "execute_result"
    }
   ],
   "execution_count": 23
  },
  {
   "metadata": {
    "ExecuteTime": {
     "end_time": "2025-06-23T20:09:07.497976Z",
     "start_time": "2025-06-23T20:09:07.480724Z"
    }
   },
   "cell_type": "code",
   "source": "mortgage.monthly_payment",
   "id": "6c71583109d88955",
   "outputs": [
    {
     "data": {
      "text/plain": [
       "2630.655186785901"
      ]
     },
     "execution_count": 24,
     "metadata": {},
     "output_type": "execute_result"
    }
   ],
   "execution_count": 24
  },
  {
   "metadata": {
    "ExecuteTime": {
     "end_time": "2025-06-23T20:04:17.776309Z",
     "start_time": "2025-06-23T20:04:17.771684Z"
    }
   },
   "cell_type": "code",
   "source": "mortgage.total_repayment",
   "id": "5ac5447abad3a042",
   "outputs": [
    {
     "data": {
      "text/plain": [
       "789196.5560357703"
      ]
     },
     "execution_count": 17,
     "metadata": {},
     "output_type": "execute_result"
    }
   ],
   "execution_count": 17
  },
  {
   "metadata": {
    "ExecuteTime": {
     "end_time": "2025-06-23T20:04:18.858598Z",
     "start_time": "2025-06-23T20:04:18.853317Z"
    }
   },
   "cell_type": "code",
   "source": "mortgage.total_interest_repayment",
   "id": "6ba2c6d81f28927f",
   "outputs": [
    {
     "data": {
      "text/plain": [
       "339196.55603577034"
      ]
     },
     "execution_count": 18,
     "metadata": {},
     "output_type": "execute_result"
    }
   ],
   "execution_count": 18
  },
  {
   "metadata": {
    "ExecuteTime": {
     "end_time": "2025-06-23T20:04:19.064383Z",
     "start_time": "2025-06-23T20:04:19.061196Z"
    }
   },
   "cell_type": "code",
   "source": "mortgage.present_value",
   "id": "82414293d5bb30aa",
   "outputs": [
    {
     "data": {
      "text/plain": [
       "449999.9999999984"
      ]
     },
     "execution_count": 19,
     "metadata": {},
     "output_type": "execute_result"
    }
   ],
   "execution_count": 19
  },
  {
   "metadata": {
    "ExecuteTime": {
     "end_time": "2025-06-23T20:04:19.257112Z",
     "start_time": "2025-06-23T20:04:19.253855Z"
    }
   },
   "cell_type": "code",
   "source": "mortgage.future_value(0.05)",
   "id": "6913bf68b1296e65",
   "outputs": [
    {
     "data": {
      "text/plain": [
       "1566580.7034141938"
      ]
     },
     "execution_count": 20,
     "metadata": {},
     "output_type": "execute_result"
    }
   ],
   "execution_count": 20
  },
  {
   "metadata": {
    "ExecuteTime": {
     "end_time": "2025-06-23T20:04:19.414276Z",
     "start_time": "2025-06-23T20:04:19.410683Z"
    }
   },
   "cell_type": "code",
   "source": "mortgage.net_future_value_interest(0.05)",
   "id": "5558e4e4b474aa54",
   "outputs": [
    {
     "data": {
      "text/plain": [
       "777384.1473784235"
      ]
     },
     "execution_count": 21,
     "metadata": {},
     "output_type": "execute_result"
    }
   ],
   "execution_count": 21
  },
  {
   "metadata": {
    "ExecuteTime": {
     "end_time": "2025-06-23T20:04:19.573976Z",
     "start_time": "2025-06-23T20:04:19.569650Z"
    }
   },
   "cell_type": "code",
   "source": "mortgage.total_interest(0.05)",
   "id": "eb8a7fa5c56cea8d",
   "outputs": [
    {
     "data": {
      "text/plain": [
       "1116580.7034141938"
      ]
     },
     "execution_count": 22,
     "metadata": {},
     "output_type": "execute_result"
    }
   ],
   "execution_count": 22
  },
  {
   "metadata": {},
   "cell_type": "code",
   "outputs": [],
   "execution_count": null,
   "source": "",
   "id": "660fdc53d4cb4d1"
  }
 ],
 "metadata": {
  "kernelspec": {
   "display_name": "Python 3",
   "language": "python",
   "name": "python3"
  },
  "language_info": {
   "codemirror_mode": {
    "name": "ipython",
    "version": 2
   },
   "file_extension": ".py",
   "mimetype": "text/x-python",
   "name": "python",
   "nbconvert_exporter": "python",
   "pygments_lexer": "ipython2",
   "version": "2.7.6"
  }
 },
 "nbformat": 4,
 "nbformat_minor": 5
}
